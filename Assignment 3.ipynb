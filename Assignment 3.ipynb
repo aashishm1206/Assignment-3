{
 "cells": [
  {
   "cell_type": "markdown",
   "metadata": {},
   "source": [
    "Q 1] create a numpy array starting from 2 till 50 with a stepsize of 3"
   ]
  },
  {
   "cell_type": "code",
   "execution_count": 4,
   "metadata": {},
   "outputs": [
    {
     "name": "stdout",
     "output_type": "stream",
     "text": [
      "[ 2  5  8 11 14 17 20 23 26 29 32 35 38 41 44 47]\n"
     ]
    }
   ],
   "source": [
    "# ANS\n",
    "import numpy as np\n",
    "print(np.arange(2,50,3))"
   ]
  },
  {
   "cell_type": "markdown",
   "metadata": {},
   "source": [
    "Q 2] Accept two list of5 elements each from the user.convert them to numpy arrays.concatenate these arrays and print it."
   ]
  },
  {
   "cell_type": "code",
   "execution_count": 1,
   "metadata": {},
   "outputs": [
    {
     "name": "stdout",
     "output_type": "stream",
     "text": [
      "Enter the size of list 5\n",
      "\n",
      "\n",
      "Enter the list numbers separated by space 10 2 56 7 8\n",
      "First List:  [10, 2, 56, 7, 8]\n",
      "\n",
      "\n",
      "Enter the size of list 5\n",
      "\n",
      "\n",
      "Enter the list numbers separated by space 24 45 78 90 12\n",
      "Second List:  [24, 45, 78, 90, 12]\n",
      "\n",
      "\n",
      "Array1 as Numpy_Array  [10  2 56  7  8]\n",
      "Array2 as Numpy_Array  [24 45 78 90 12]\n",
      "\n",
      "\n",
      "Concatenated array  [10  2 56  7  8 24 45 78 90 12]\n",
      "\n",
      "\n",
      "Sorted Array  [ 2  7  8 10 12 24 45 56 78 90]\n"
     ]
    }
   ],
   "source": [
    "#ANS\n",
    "import numpy \n",
    "First_list = int(input(\"Enter the size of list \"))\n",
    "print(\"\\n\")\n",
    "numList_1 = list(int(num) for num in input(\"Enter the list numbers separated by space \").strip().split())[:First_list]\n",
    "print(\"First List: \", numList_1)\n",
    "print(\"\\n\")\n",
    "Second_list = int(input(\"Enter the size of list \"))\n",
    "print(\"\\n\")\n",
    "numList_2 = list(int(num) for num in input(\"Enter the list numbers separated by space \").strip().split())[:Second_list]\n",
    "print(\"Second List: \", numList_2)\n",
    "print(\"\\n\")\n",
    "Array_1 = numpy.array(numList_1)\n",
    "Array_2 = numpy.array(numList_2)\n",
    "\n",
    "print(\"Array1 as Numpy_Array \",Array_1)\n",
    "print(\"Array2 as Numpy_Array \",Array_2)\n",
    "print(\"\\n\")\n",
    "\n",
    "Concatenated_array = numpy.concatenate((Array_1, Array_2), axis=0)\n",
    "print(\"Concatenated array \", Concatenated_array)\n",
    "print(\"\\n\")\n",
    "Concatenated_array.sort()\n",
    "print(\"Sorted Array \", Concatenated_array)\n",
    "\n"
   ]
  },
  {
   "cell_type": "markdown",
   "metadata": {},
   "source": [
    "Q 3]Write a code snippet to find the dimensions of a ndarry and its size"
   ]
  },
  {
   "cell_type": "code",
   "execution_count": 1,
   "metadata": {},
   "outputs": [
    {
     "name": "stdout",
     "output_type": "stream",
     "text": [
      "2D Numpy Array\n",
      "[[10 12 15 17]\n",
      " [18 19 20 21]\n",
      " [22 23 24 25]]\n",
      "\n",
      "\n",
      "Number of Rows :  3\n",
      "Number of Columns :  4\n"
     ]
    }
   ],
   "source": [
    "#ANS\n",
    "import numpy as np\n",
    "arr2D = np.array([[10,12,15,17], [18,19,20,21], [22,23,24,25]])\n",
    "print('2D Numpy Array')\n",
    "print(arr2D)\n",
    "print(\"\\n\")\n",
    "numOfRows = np.size(arr2D, 0)\n",
    "numOfColumns = np.size(arr2D, 1)\n",
    "print('Number of Rows : ', numOfRows)\n",
    "print('Number of Columns : ', numOfColumns)"
   ]
  },
  {
   "cell_type": "markdown",
   "metadata": {},
   "source": [
    "Q 4] How to convert a 1D array into a 2D array? Dmonstrate with help of a code snippet"
   ]
  },
  {
   "cell_type": "code",
   "execution_count": 4,
   "metadata": {},
   "outputs": [
    {
     "name": "stdout",
     "output_type": "stream",
     "text": [
      "1D Numpy array:\n",
      "[0 1 2 3 4 5 6 7 8 9]\n",
      "\n",
      "\n",
      "2D Array \n",
      "[[0 1 2 3 4]\n",
      " [5 6 7 8 9]]\n"
     ]
    }
   ],
   "source": [
    "# ANS\n",
    "import numpy as np\n",
    "arr = np.array([0, 1, 2, 3, 4, 5, 6, 7, 8, 9])\n",
    "print('1D Numpy array:')\n",
    "print(arr)\n",
    "print(\"\\n\")\n",
    "\n",
    "arr = np.array([0, 1, 2, 3, 4, 5, 6, 7, 8, 9])\n",
    "arr_2d = np.reshape(arr, (2, 5))\n",
    "print(\"2D Array \")\n",
    "print(arr_2d)\n"
   ]
  },
  {
   "cell_type": "markdown",
   "metadata": {},
   "source": [
    "Q 5]consider two square numpy arrays.stack them vertically and horizentally"
   ]
  },
  {
   "cell_type": "code",
   "execution_count": 5,
   "metadata": {},
   "outputs": [
    {
     "name": "stdout",
     "output_type": "stream",
     "text": [
      "Vertical stacking:\n",
      " [[1 2]\n",
      " [3 4]\n",
      " [5 6]\n",
      " [7 8]]\n",
      "\n",
      "Horizontal stacking:\n",
      " [[1 2 5 6]\n",
      " [3 4 7 8]]\n"
     ]
    }
   ],
   "source": [
    "#AN\n",
    "import numpy as np\n",
    "a= np.array([[1, 2], \n",
    "              [3, 4]]) \n",
    "  \n",
    "b = np.array([[5, 6], \n",
    "              [7, 8]]) \n",
    "  \n",
    "print(\"Vertical stacking:\\n\", np.vstack((a, b))) \n",
    "  \n",
    "print(\"\\nHorizontal stacking:\\n\", np.hstack((a, b)))"
   ]
  },
  {
   "cell_type": "markdown",
   "metadata": {},
   "source": [
    "Q 6] How to get unique items and count of unique items?"
   ]
  },
  {
   "cell_type": "code",
   "execution_count": 6,
   "metadata": {},
   "outputs": [
    {
     "name": "stdout",
     "output_type": "stream",
     "text": [
      "The unique values from 1st list is\n",
      "[10 20 30 40]\n",
      "No of unique items in the list are: 4\n"
     ]
    }
   ],
   "source": [
    "#ANS\n",
    "def unique(list1): \n",
    "    x = np.array(list1) \n",
    "    print(np.unique(x)) \n",
    "      \n",
    "list1 = [10, 20, 10, 30, 40, 40] \n",
    "print(\"The unique values from 1st list is\") \n",
    "unique(list1) \n",
    "  \n",
    "new_set = set(list1) \n",
    "print(\"No of unique items in the list are:\", len(new_set))"
   ]
  },
  {
   "cell_type": "code",
   "execution_count": null,
   "metadata": {},
   "outputs": [],
   "source": []
  }
 ],
 "metadata": {
  "kernelspec": {
   "display_name": "Python 3",
   "language": "python",
   "name": "python3"
  },
  "language_info": {
   "codemirror_mode": {
    "name": "ipython",
    "version": 3
   },
   "file_extension": ".py",
   "mimetype": "text/x-python",
   "name": "python",
   "nbconvert_exporter": "python",
   "pygments_lexer": "ipython3",
   "version": "3.8.3"
  }
 },
 "nbformat": 4,
 "nbformat_minor": 4
}
